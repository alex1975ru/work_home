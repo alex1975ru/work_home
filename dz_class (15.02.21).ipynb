{
 "cells": [
  {
   "cell_type": "code",
   "execution_count": 3,
   "metadata": {},
   "outputs": [
    {
     "name": "stdout",
     "output_type": "stream",
     "text": [
      "У валюты: СДР (специальные права заимствования) - максимальный курс: 106.6479 рублей\n"
     ]
    }
   ],
   "source": [
    "import requests\n",
    "def max_exchange():\n",
    "    self_r = requests.get('https://www.cbr-xml-daily.ru/daily_json.js')\n",
    "    d = {}\n",
    "    d1 = {}\n",
    "    for i, j in self_r.json()['Valute'].items():\n",
    "        for i1, j1 in j.items():\n",
    "            if i1 == \"Value\":     \n",
    "                d.setdefault(i, j1)\n",
    "            if i1 == \"Name\":\n",
    "                d1.setdefault(i, j1) \n",
    "\n",
    "    max_values = max(d.values())\n",
    "    Keymax = max(d, key=d.get)\n",
    "    print(f\"У валюты: {d1[Keymax]} - максимальный курс: {max_values} рублей\")\n",
    "max_exchange()"
   ]
  },
  {
   "cell_type": "code",
   "execution_count": 6,
   "metadata": {},
   "outputs": [],
   "source": [
    "import requests\n",
    "class Rate:\n",
    "    def __init__(self, format_='value', diff = 'False'):\n",
    "        self.format = format_\n",
    "        self.diff = diff\n",
    "    \n",
    "    def exchange_rates(self):\n",
    "        \"\"\"\n",
    "        Возвращает ответ сервиса с информацией о валютах в виде:\n",
    "        \n",
    "        {\n",
    "            'AMD': {\n",
    "                'CharCode': 'AMD',\n",
    "                'ID': 'R01060',\n",
    "                'Name': 'Армянских драмов',\n",
    "                'Nominal': 100,\n",
    "                'NumCode': '051',\n",
    "                'Previous': 14.103,\n",
    "                'Value': 14.0879\n",
    "                },\n",
    "            ...\n",
    "        }\n",
    "        \"\"\"\n",
    "        self.r = requests.get('https://www.cbr-xml-daily.ru/daily_json.js')\n",
    "        return self.r.json()['Valute']\n",
    "    \n",
    "    def make_format(self, currency):\n",
    "        \"\"\"\n",
    "        Возвращает информацию о валюте currency в двух вариантах:\n",
    "        - полная информация о валюте при self.format = 'full':\n",
    "        Rate('full').make_format('EUR')\n",
    "        {\n",
    "            'CharCode': 'EUR',\n",
    "            'ID': 'R01239',\n",
    "            'Name': 'Евро',\n",
    "            'Nominal': 1,\n",
    "            'NumCode': '978',\n",
    "            'Previous': 79.6765,\n",
    "            'Value': 79.4966\n",
    "        }\n",
    "        \n",
    "        Rate('value').make_format('EUR')\n",
    "        79.4966\n",
    "        \"\"\"\n",
    "        response = self.exchange_rates()\n",
    "        \n",
    "        if currency in response:\n",
    "            if self.format == 'full':\n",
    "                return response[currency]\n",
    "            \n",
    "            if self.format == 'value':\n",
    "\n",
    "                if self.diff == 'False':\n",
    "                    return response[currency]['Value']\n",
    "                if self.diff == 'True':\n",
    "                    return response[currency]['Value']-response[currency]['Previous'] \n",
    "\n",
    "        return 'Error'\n",
    "    \n",
    "    def eur(self):\n",
    "        \"\"\"Возвращает курс евро на сегодня в формате self.format\"\"\"\n",
    "        return self.make_format('EUR')\n",
    "   \n",
    "    def usd(self):\n",
    "        \"\"\"Возвращает курс доллара на сегодня в формате self.format\"\"\"\n",
    "        return self.make_format('USD')\n",
    "    \n",
    "    def brl(self):\n",
    "        \"\"\"Возвращает курс бразильского реала на сегодня в формате self.format\"\"\"\n",
    "        return self.make_format('BRL')"
   ]
  },
  {
   "cell_type": "code",
   "execution_count": 8,
   "metadata": {},
   "outputs": [
    {
     "data": {
      "text/plain": [
       "0.16639999999999588"
      ]
     },
     "execution_count": 8,
     "metadata": {},
     "output_type": "execute_result"
    }
   ],
   "source": [
    "r = Rate(format_='value', diff = 'True')\n",
    "r.eur()\n"
   ]
  },
  {
   "cell_type": "code",
   "execution_count": 90,
   "metadata": {},
   "outputs": [
    {
     "name": "stdout",
     "output_type": "stream",
     "text": [
      "Введите количество международных премий: 1\n",
      " имя: Дизайнер , грейд: 1, баллы: 6\n",
      "Введите количество международных премий: 1\n",
      " имя: Дизайнер , грейд: 2, баллы: 8\n",
      "Введите количество международных премий: 2\n",
      " имя: Дизайнер , грейд: 2, баллы: 12\n"
     ]
    }
   ],
   "source": [
    "class Employee:\n",
    "    def __init__(self, name, seniority):\n",
    "        self.name = name\n",
    "        self.seniority = seniority\n",
    "        self.seniority = 1\n",
    "        self.grade = 1\n",
    "        self.j = [4]\n",
    "        self.q = [1]\n",
    "    \n",
    "    def grade_up(self):\n",
    "        \"\"\"Повышает уровень сотрудника\"\"\"\n",
    "        self.grade += 1\n",
    "#         r.self = sum(self.j)   \n",
    "    def publish_grade(self):\n",
    "        \"\"\"Публикация результатов аккредитации сотрудников\"\"\"\n",
    "        print(f\" имя: {self.name} , грейд: {self.grade}, баллы: {sum(self.j)}\")\n",
    "    def check_if_it_is_time_for_upgrade(self):\n",
    "        pass\n",
    "class Designer(Employee):\n",
    "    def __init__(self, name, seniority):\n",
    "        super().__init__(name, seniority)\n",
    "    \n",
    "    def check_if_it_is_time_for_upgrade(self, ball):\n",
    "        \"\"\"\" Для каждой аттестации нужно проставить колличество баллов\"\"\"\n",
    "        self.j.append(ball)\n",
    "        q = (sum(self.j))//7\n",
    "        list_q.append(q)\n",
    "        self.q.append(q)\n",
    "        if  self.q[-1] < self.q[-2] :\n",
    "            ball_1 = 0            \n",
    "        elif self.q[-1] > self.q[-2] :\n",
    "            ball_1 = list_q[-1]-list_q[-2]\n",
    "        else:\n",
    "            ball_1 = 0\n",
    "        for q1 in range(ball_1):\n",
    "            self.grade_up()       \n",
    "        return self.publish_grade()\n",
    "alex = Designer('Дизайнер', 4)\n",
    "alex.check_if_it_is_time_for_upgrade((int(input(\"Введите количество международных премий: \")))*2)\n",
    "alex.check_if_it_is_time_for_upgrade((int(input(\"Введите количество международных премий: \")))*2)\n",
    "alex.check_if_it_is_time_for_upgrade((int(input(\"Введите количество международных премий: \")))*2)"
   ]
  },
  {
   "cell_type": "code",
   "execution_count": null,
   "metadata": {},
   "outputs": [],
   "source": []
  },
  {
   "cell_type": "code",
   "execution_count": null,
   "metadata": {},
   "outputs": [],
   "source": []
  }
 ],
 "metadata": {
  "kernelspec": {
   "display_name": "Python 3",
   "language": "python",
   "name": "python3"
  },
  "language_info": {
   "codemirror_mode": {
    "name": "ipython",
    "version": 3
   },
   "file_extension": ".py",
   "mimetype": "text/x-python",
   "name": "python",
   "nbconvert_exporter": "python",
   "pygments_lexer": "ipython3",
   "version": "3.8.5"
  }
 },
 "nbformat": 4,
 "nbformat_minor": 4
}
