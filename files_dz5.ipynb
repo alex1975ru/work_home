{
 "cells": [
  {
   "cell_type": "code",
   "execution_count": 1,
   "metadata": {},
   "outputs": [
    {
     "name": "stdout",
     "output_type": "stream",
     "text": [
      "{'1840e0b9d4': 'Продукты', '4e4f90fcfb': 'Электроника', 'afea8d72fc': 'Электроника', '373a6055fe': 'Бытовая техника', '9b2ab046f3': 'Электроника', '9f39d307c3': 'Электроника'}\n"
     ]
    }
   ],
   "source": [
    "import json\n",
    "k = 0\n",
    "get_user_id = []\n",
    "get_category = []\n",
    "f = open(\"C:\\\\Users\\\\kuznecov.ap\\\\Desktop\\\\piton\\\\purchase_log.txt\", 'r', encoding='utf-8')\n",
    "for j in range(1):\n",
    "    next(f)\n",
    "    for i in f:  \n",
    "        i = i.strip()\n",
    "        get_dict = json.loads(i)\n",
    "        if get_dict['user_id'] !=' ':\n",
    "            get_user_id.append(get_dict['user_id'])\n",
    "            get_category.append(get_dict['category'])\n",
    "        k += 1\n",
    "        if k > 5:\n",
    "            break\n",
    "print(dict(zip(get_user_id, get_category)))   \n",
    "f.close()"
   ]
  },
  {
   "cell_type": "code",
   "execution_count": null,
   "metadata": {},
   "outputs": [],
   "source": [
    "import json\n",
    "k = 0\n",
    "k1 = 0\n",
    "list_purchase_log = []\n",
    "list_visit_log = []\n",
    "f_purchase_log = open(\"C:\\\\Users\\\\kuznecov.ap\\\\Desktop\\\\piton\\\\purchase_log.txt\", 'r', encoding='utf-8')\n",
    "f_visit_log = open(\"C:\\\\Users\\\\kuznecov.ap\\\\Desktop\\\\piton\\\\visit_log.csv\", 'r', encoding='utf-8')\n",
    "f_funnel = open(\"C:\\\\Users\\\\kuznecov.ap\\\\Desktop\\\\piton\\\\funnel.csv\", 'w', encoding='utf-8')\n",
    "for j_one in range(1):\n",
    "    next(f_purchase_log)\n",
    "    for i in f_purchase_log: #запись в память\n",
    "        i = i.strip()\n",
    "        get_purchase_log = json.loads(i)\n",
    "        list_purchase_log.append(get_purchase_log) \n",
    "#         k += 1\n",
    "#         if k > 100:\n",
    "#             break\n",
    "for j in f_visit_log: #построчный вызов\n",
    "    get_visit_log = j.strip().split(',')\n",
    "#     print(get_visit_log)\n",
    "    for  q in list_purchase_log:\n",
    "        if q[\"user_id\"] == get_visit_log[0]:\n",
    "#             print(q[\"category\"], get_visit_log[0])\n",
    "            list_visit_log.append(q[\"category\"])\n",
    "            f_funnel.write(q[\"category\"] + '\\n')             \n",
    "#     k1 += 1\n",
    "#     if k1 > 10:\n",
    "#         break\n",
    "f_purchase_log.close()\n",
    "f_visit_log.close()\n",
    "f_funnel.close()"
   ]
  }
 ],
 "metadata": {
  "kernelspec": {
   "display_name": "Python 3",
   "language": "python",
   "name": "python3"
  },
  "language_info": {
   "codemirror_mode": {
    "name": "ipython",
    "version": 3
   },
   "file_extension": ".py",
   "mimetype": "text/x-python",
   "name": "python",
   "nbconvert_exporter": "python",
   "pygments_lexer": "ipython3",
   "version": "3.8.5"
  }
 },
 "nbformat": 4,
 "nbformat_minor": 4
}
